{
 "cells": [
  {
   "cell_type": "markdown",
   "source": [
    "## Haiti Health Data Analysis\r\n",
    "\r\n",
    "You are an analyst working at a health research company in Haiti.  The government has asked your company to analyze data related to covid-19.  To that end, they have provided you with access to health data.\r\n",
    "\r\n",
    "Your goal as a Data Manager is to provide\r\n",
    "*  Relational Database to manage all the data collection\r\n",
    "* Use SQL Language to answers some query provided from the Board\r\n",
    "* Build a dashboard with Power BI to illustrate all the activites of covid\r\n"
   ],
   "metadata": {}
  },
  {
   "cell_type": "markdown",
   "source": [
    "### Importing Libraries"
   ],
   "metadata": {}
  },
  {
   "cell_type": "code",
   "execution_count": 113,
   "source": [
    "import numpy as np\r\n",
    "import pandas as pd\r\n",
    "from sqlalchemy import create_engine"
   ],
   "outputs": [],
   "metadata": {}
  },
  {
   "cell_type": "markdown",
   "source": [
    "### Loading Dataset Files"
   ],
   "metadata": {}
  },
  {
   "cell_type": "code",
   "execution_count": 115,
   "source": [
    "covid_cases = pd.read_csv(\"./datasets/mspp_covid19_cases.csv\", index_col=0)\r\n",
    "spa         = pd.read_csv(\"./datasets/spa.csv\",index_col=0)\r\n",
    "departement = pd.read_excel(\"./datasets/hti_adminboundaries_tabulardata.xlsx\",sheet_name=1,index_col=0)\r\n",
    "commune     = pd.read_excel(\"./datasets/hti_adminboundaries_tabulardata.xlsx\",sheet_name=2,index_col=0)"
   ],
   "outputs": [],
   "metadata": {}
  },
  {
   "cell_type": "markdown",
   "source": [
    "### Data Cleaning"
   ],
   "metadata": {}
  },
  {
   "cell_type": "code",
   "execution_count": null,
   "source": [
    "# Display Covid_cases Informations\r\n",
    "covid_cases.info()"
   ],
   "outputs": [],
   "metadata": {}
  },
  {
   "cell_type": "code",
   "execution_count": 117,
   "source": [
    "#Drop total columns from covid_cases data files\r\n",
    "covid_cases=covid_cases.drop([10,21,32,43,54,65,76,87,98])\r\n",
    "covid_cases=covid_cases.sort_values(by=['document_date','departement'],ascending=[True,True])"
   ],
   "outputs": [],
   "metadata": {}
  },
  {
   "cell_type": "code",
   "execution_count": null,
   "source": [
    "# Replace wrong data from covid_cases departement column\r\n",
    "covid_cases['departement'] = covid_cases['departement'].replace({'Guest' :'Ouest'}, inplace =False)\r\n",
    "covid_cases.info()"
   ],
   "outputs": [],
   "metadata": {}
  },
  {
   "cell_type": "code",
   "execution_count": 119,
   "source": [
    "#Merge Departement with covid_cases\r\n",
    "covid_cases1 = pd.merge(covid_cases,departement,how= 'left', left_on='departement', right_on='adm1_fr')\r\n",
    "covid_cases1.info()"
   ],
   "outputs": [
    {
     "output_type": "stream",
     "name": "stdout",
     "text": [
      "<class 'pandas.core.frame.DataFrame'>\n",
      "Int64Index: 90 entries, 0 to 89\n",
      "Data columns (total 16 columns):\n",
      " #   Column                  Non-Null Count  Dtype  \n",
      "---  ------                  --------------  -----  \n",
      " 0   departement             90 non-null     object \n",
      " 1   cas_suspects            90 non-null     int64  \n",
      " 2   cas_confirmes           90 non-null     int64  \n",
      " 3   deces                   90 non-null     int64  \n",
      " 4   taux_de_letalite        90 non-null     float64\n",
      " 5   document_date           90 non-null     object \n",
      " 6   adm0_en                 90 non-null     object \n",
      " 7   adm0_fr                 90 non-null     object \n",
      " 8   adm0_ht                 90 non-null     object \n",
      " 9   adm1code                90 non-null     object \n",
      " 10  adm1_en                 90 non-null     object \n",
      " 11  adm1_fr                 90 non-null     object \n",
      " 12  adm1_ht                 90 non-null     object \n",
      " 13  IHSI_UNFPA_2019         90 non-null     float64\n",
      " 14  IHSI_UNFPA_2019_female  90 non-null     int64  \n",
      " 15  IHSI_UNFPA_2019_male    90 non-null     int64  \n",
      "dtypes: float64(2), int64(5), object(9)\n",
      "memory usage: 12.0+ KB\n"
     ]
    }
   ],
   "metadata": {}
  },
  {
   "cell_type": "code",
   "execution_count": null,
   "source": [
    "#selecting the necessary columns in covid_cases data\r\n",
    "covid_cases1= covid_cases1.loc[:,['cas_suspects','cas_confirmes','deces','taux_de_letalite','document_date','adm1code']]\r\n",
    "covid_cases1.info()"
   ],
   "outputs": [],
   "metadata": {}
  },
  {
   "cell_type": "code",
   "execution_count": 122,
   "source": [
    "departement.info()"
   ],
   "outputs": [
    {
     "output_type": "stream",
     "name": "stdout",
     "text": [
      "<class 'pandas.core.frame.DataFrame'>\n",
      "Index: 10 entries, HT to HT\n",
      "Data columns (total 10 columns):\n",
      " #   Column                  Non-Null Count  Dtype  \n",
      "---  ------                  --------------  -----  \n",
      " 0   adm0_en                 10 non-null     object \n",
      " 1   adm0_fr                 10 non-null     object \n",
      " 2   adm0_ht                 10 non-null     object \n",
      " 3   adm1code                10 non-null     object \n",
      " 4   adm1_en                 10 non-null     object \n",
      " 5   adm1_fr                 10 non-null     object \n",
      " 6   adm1_ht                 10 non-null     object \n",
      " 7   IHSI_UNFPA_2019         10 non-null     float64\n",
      " 8   IHSI_UNFPA_2019_female  10 non-null     int64  \n",
      " 9   IHSI_UNFPA_2019_male    10 non-null     int64  \n",
      "dtypes: float64(1), int64(2), object(7)\n",
      "memory usage: 880.0+ bytes\n"
     ]
    }
   ],
   "metadata": {}
  },
  {
   "cell_type": "code",
   "execution_count": 123,
   "source": [
    "##selecting the necessary columns in departement data\r\n",
    "departement=departement.loc[:,['adm1code','adm1_en','IHSI_UNFPA_2019','IHSI_UNFPA_2019_female','IHSI_UNFPA_2019_male']]\r\n",
    "departement.head()"
   ],
   "outputs": [
    {
     "output_type": "execute_result",
     "data": {
      "text/plain": [
       "         adm1code     adm1_en  IHSI_UNFPA_2019  IHSI_UNFPA_2019_female  \\\n",
       "adm0code                                                                 \n",
       "HT           HT01        West     5.010206e+06                 2587360   \n",
       "HT           HT02  South-East     8.939007e+05                  448111   \n",
       "HT           HT03       North     1.159762e+06                  589825   \n",
       "HT           HT04  North-East     4.444631e+05                  221501   \n",
       "HT           HT05  Artibonite     2.047153e+06                 1034065   \n",
       "\n",
       "          IHSI_UNFPA_2019_male  \n",
       "adm0code                        \n",
       "HT                     2422846  \n",
       "HT                      445790  \n",
       "HT                      569932  \n",
       "HT                      222966  \n",
       "HT                     1013085  "
      ],
      "text/html": [
       "<div>\n",
       "<style scoped>\n",
       "    .dataframe tbody tr th:only-of-type {\n",
       "        vertical-align: middle;\n",
       "    }\n",
       "\n",
       "    .dataframe tbody tr th {\n",
       "        vertical-align: top;\n",
       "    }\n",
       "\n",
       "    .dataframe thead th {\n",
       "        text-align: right;\n",
       "    }\n",
       "</style>\n",
       "<table border=\"1\" class=\"dataframe\">\n",
       "  <thead>\n",
       "    <tr style=\"text-align: right;\">\n",
       "      <th></th>\n",
       "      <th>adm1code</th>\n",
       "      <th>adm1_en</th>\n",
       "      <th>IHSI_UNFPA_2019</th>\n",
       "      <th>IHSI_UNFPA_2019_female</th>\n",
       "      <th>IHSI_UNFPA_2019_male</th>\n",
       "    </tr>\n",
       "    <tr>\n",
       "      <th>adm0code</th>\n",
       "      <th></th>\n",
       "      <th></th>\n",
       "      <th></th>\n",
       "      <th></th>\n",
       "      <th></th>\n",
       "    </tr>\n",
       "  </thead>\n",
       "  <tbody>\n",
       "    <tr>\n",
       "      <th>HT</th>\n",
       "      <td>HT01</td>\n",
       "      <td>West</td>\n",
       "      <td>5.010206e+06</td>\n",
       "      <td>2587360</td>\n",
       "      <td>2422846</td>\n",
       "    </tr>\n",
       "    <tr>\n",
       "      <th>HT</th>\n",
       "      <td>HT02</td>\n",
       "      <td>South-East</td>\n",
       "      <td>8.939007e+05</td>\n",
       "      <td>448111</td>\n",
       "      <td>445790</td>\n",
       "    </tr>\n",
       "    <tr>\n",
       "      <th>HT</th>\n",
       "      <td>HT03</td>\n",
       "      <td>North</td>\n",
       "      <td>1.159762e+06</td>\n",
       "      <td>589825</td>\n",
       "      <td>569932</td>\n",
       "    </tr>\n",
       "    <tr>\n",
       "      <th>HT</th>\n",
       "      <td>HT04</td>\n",
       "      <td>North-East</td>\n",
       "      <td>4.444631e+05</td>\n",
       "      <td>221501</td>\n",
       "      <td>222966</td>\n",
       "    </tr>\n",
       "    <tr>\n",
       "      <th>HT</th>\n",
       "      <td>HT05</td>\n",
       "      <td>Artibonite</td>\n",
       "      <td>2.047153e+06</td>\n",
       "      <td>1034065</td>\n",
       "      <td>1013085</td>\n",
       "    </tr>\n",
       "  </tbody>\n",
       "</table>\n",
       "</div>"
      ]
     },
     "metadata": {},
     "execution_count": 123
    }
   ],
   "metadata": {}
  },
  {
   "cell_type": "code",
   "execution_count": 124,
   "source": [
    "commune=commune.reset_index()\r\n",
    "display(commune.head())"
   ],
   "outputs": [
    {
     "output_type": "display_data",
     "data": {
      "text/plain": [
       "  adm0code adm0_en adm0_fr adm0_ht adm1code adm1_en adm1_fr adm1_ht adm2code  \\\n",
       "0       HT   Haiti   Haïti   Ayiti     HT01    West   Ouest    Lwès   HT0111   \n",
       "1       HT   Haiti   Haïti   Ayiti     HT01    West   Ouest    Lwès   HT0112   \n",
       "2       HT   Haiti   Haïti   Ayiti     HT01    West   Ouest    Lwès   HT0113   \n",
       "3       HT   Haiti   Haïti   Ayiti     HT01    West   Ouest    Lwès   HT0114   \n",
       "4       HT   Haiti   Haïti   Ayiti     HT01    West   Ouest    Lwès   HT0115   \n",
       "\n",
       "          adm2_en         adm2_fr adm2_ht  IHSI_UNFPA_2019  \\\n",
       "0  Port-au-Prince  Port-au-Prince             1.227540e+06   \n",
       "1          Delmas          Delmas             4.914342e+05   \n",
       "2       Carrefour       Carrefour             6.357646e+05   \n",
       "3    Petion-Ville    Pétion-Ville             4.685251e+05   \n",
       "4        Kenscoff        Kenscoff             7.140848e+04   \n",
       "\n",
       "   IHSI_UNFPA_2019_female  IHSI_UNFPA_2019_male  \n",
       "0                  648353                579188  \n",
       "1                  258526                232908  \n",
       "2                  333500                302263  \n",
       "3                  241407                227118  \n",
       "4                   35608                 35800  "
      ],
      "text/html": [
       "<div>\n",
       "<style scoped>\n",
       "    .dataframe tbody tr th:only-of-type {\n",
       "        vertical-align: middle;\n",
       "    }\n",
       "\n",
       "    .dataframe tbody tr th {\n",
       "        vertical-align: top;\n",
       "    }\n",
       "\n",
       "    .dataframe thead th {\n",
       "        text-align: right;\n",
       "    }\n",
       "</style>\n",
       "<table border=\"1\" class=\"dataframe\">\n",
       "  <thead>\n",
       "    <tr style=\"text-align: right;\">\n",
       "      <th></th>\n",
       "      <th>adm0code</th>\n",
       "      <th>adm0_en</th>\n",
       "      <th>adm0_fr</th>\n",
       "      <th>adm0_ht</th>\n",
       "      <th>adm1code</th>\n",
       "      <th>adm1_en</th>\n",
       "      <th>adm1_fr</th>\n",
       "      <th>adm1_ht</th>\n",
       "      <th>adm2code</th>\n",
       "      <th>adm2_en</th>\n",
       "      <th>adm2_fr</th>\n",
       "      <th>adm2_ht</th>\n",
       "      <th>IHSI_UNFPA_2019</th>\n",
       "      <th>IHSI_UNFPA_2019_female</th>\n",
       "      <th>IHSI_UNFPA_2019_male</th>\n",
       "    </tr>\n",
       "  </thead>\n",
       "  <tbody>\n",
       "    <tr>\n",
       "      <th>0</th>\n",
       "      <td>HT</td>\n",
       "      <td>Haiti</td>\n",
       "      <td>Haïti</td>\n",
       "      <td>Ayiti</td>\n",
       "      <td>HT01</td>\n",
       "      <td>West</td>\n",
       "      <td>Ouest</td>\n",
       "      <td>Lwès</td>\n",
       "      <td>HT0111</td>\n",
       "      <td>Port-au-Prince</td>\n",
       "      <td>Port-au-Prince</td>\n",
       "      <td></td>\n",
       "      <td>1.227540e+06</td>\n",
       "      <td>648353</td>\n",
       "      <td>579188</td>\n",
       "    </tr>\n",
       "    <tr>\n",
       "      <th>1</th>\n",
       "      <td>HT</td>\n",
       "      <td>Haiti</td>\n",
       "      <td>Haïti</td>\n",
       "      <td>Ayiti</td>\n",
       "      <td>HT01</td>\n",
       "      <td>West</td>\n",
       "      <td>Ouest</td>\n",
       "      <td>Lwès</td>\n",
       "      <td>HT0112</td>\n",
       "      <td>Delmas</td>\n",
       "      <td>Delmas</td>\n",
       "      <td></td>\n",
       "      <td>4.914342e+05</td>\n",
       "      <td>258526</td>\n",
       "      <td>232908</td>\n",
       "    </tr>\n",
       "    <tr>\n",
       "      <th>2</th>\n",
       "      <td>HT</td>\n",
       "      <td>Haiti</td>\n",
       "      <td>Haïti</td>\n",
       "      <td>Ayiti</td>\n",
       "      <td>HT01</td>\n",
       "      <td>West</td>\n",
       "      <td>Ouest</td>\n",
       "      <td>Lwès</td>\n",
       "      <td>HT0113</td>\n",
       "      <td>Carrefour</td>\n",
       "      <td>Carrefour</td>\n",
       "      <td></td>\n",
       "      <td>6.357646e+05</td>\n",
       "      <td>333500</td>\n",
       "      <td>302263</td>\n",
       "    </tr>\n",
       "    <tr>\n",
       "      <th>3</th>\n",
       "      <td>HT</td>\n",
       "      <td>Haiti</td>\n",
       "      <td>Haïti</td>\n",
       "      <td>Ayiti</td>\n",
       "      <td>HT01</td>\n",
       "      <td>West</td>\n",
       "      <td>Ouest</td>\n",
       "      <td>Lwès</td>\n",
       "      <td>HT0114</td>\n",
       "      <td>Petion-Ville</td>\n",
       "      <td>Pétion-Ville</td>\n",
       "      <td></td>\n",
       "      <td>4.685251e+05</td>\n",
       "      <td>241407</td>\n",
       "      <td>227118</td>\n",
       "    </tr>\n",
       "    <tr>\n",
       "      <th>4</th>\n",
       "      <td>HT</td>\n",
       "      <td>Haiti</td>\n",
       "      <td>Haïti</td>\n",
       "      <td>Ayiti</td>\n",
       "      <td>HT01</td>\n",
       "      <td>West</td>\n",
       "      <td>Ouest</td>\n",
       "      <td>Lwès</td>\n",
       "      <td>HT0115</td>\n",
       "      <td>Kenscoff</td>\n",
       "      <td>Kenscoff</td>\n",
       "      <td></td>\n",
       "      <td>7.140848e+04</td>\n",
       "      <td>35608</td>\n",
       "      <td>35800</td>\n",
       "    </tr>\n",
       "  </tbody>\n",
       "</table>\n",
       "</div>"
      ]
     },
     "metadata": {}
    }
   ],
   "metadata": {}
  },
  {
   "cell_type": "code",
   "execution_count": 125,
   "source": [
    "#selecting the necessary columns in commune data\r\n",
    "commune=commune.loc[:,['adm1code','adm2code','adm2_en','IHSI_UNFPA_2019','IHSI_UNFPA_2019_female','IHSI_UNFPA_2019_male']]\r\n",
    "commune.head()"
   ],
   "outputs": [
    {
     "output_type": "execute_result",
     "data": {
      "text/plain": [
       "  adm1code adm2code         adm2_en  IHSI_UNFPA_2019  IHSI_UNFPA_2019_female  \\\n",
       "0     HT01   HT0111  Port-au-Prince     1.227540e+06                  648353   \n",
       "1     HT01   HT0112          Delmas     4.914342e+05                  258526   \n",
       "2     HT01   HT0113       Carrefour     6.357646e+05                  333500   \n",
       "3     HT01   HT0114    Petion-Ville     4.685251e+05                  241407   \n",
       "4     HT01   HT0115        Kenscoff     7.140848e+04                   35608   \n",
       "\n",
       "   IHSI_UNFPA_2019_male  \n",
       "0                579188  \n",
       "1                232908  \n",
       "2                302263  \n",
       "3                227118  \n",
       "4                 35800  "
      ],
      "text/html": [
       "<div>\n",
       "<style scoped>\n",
       "    .dataframe tbody tr th:only-of-type {\n",
       "        vertical-align: middle;\n",
       "    }\n",
       "\n",
       "    .dataframe tbody tr th {\n",
       "        vertical-align: top;\n",
       "    }\n",
       "\n",
       "    .dataframe thead th {\n",
       "        text-align: right;\n",
       "    }\n",
       "</style>\n",
       "<table border=\"1\" class=\"dataframe\">\n",
       "  <thead>\n",
       "    <tr style=\"text-align: right;\">\n",
       "      <th></th>\n",
       "      <th>adm1code</th>\n",
       "      <th>adm2code</th>\n",
       "      <th>adm2_en</th>\n",
       "      <th>IHSI_UNFPA_2019</th>\n",
       "      <th>IHSI_UNFPA_2019_female</th>\n",
       "      <th>IHSI_UNFPA_2019_male</th>\n",
       "    </tr>\n",
       "  </thead>\n",
       "  <tbody>\n",
       "    <tr>\n",
       "      <th>0</th>\n",
       "      <td>HT01</td>\n",
       "      <td>HT0111</td>\n",
       "      <td>Port-au-Prince</td>\n",
       "      <td>1.227540e+06</td>\n",
       "      <td>648353</td>\n",
       "      <td>579188</td>\n",
       "    </tr>\n",
       "    <tr>\n",
       "      <th>1</th>\n",
       "      <td>HT01</td>\n",
       "      <td>HT0112</td>\n",
       "      <td>Delmas</td>\n",
       "      <td>4.914342e+05</td>\n",
       "      <td>258526</td>\n",
       "      <td>232908</td>\n",
       "    </tr>\n",
       "    <tr>\n",
       "      <th>2</th>\n",
       "      <td>HT01</td>\n",
       "      <td>HT0113</td>\n",
       "      <td>Carrefour</td>\n",
       "      <td>6.357646e+05</td>\n",
       "      <td>333500</td>\n",
       "      <td>302263</td>\n",
       "    </tr>\n",
       "    <tr>\n",
       "      <th>3</th>\n",
       "      <td>HT01</td>\n",
       "      <td>HT0114</td>\n",
       "      <td>Petion-Ville</td>\n",
       "      <td>4.685251e+05</td>\n",
       "      <td>241407</td>\n",
       "      <td>227118</td>\n",
       "    </tr>\n",
       "    <tr>\n",
       "      <th>4</th>\n",
       "      <td>HT01</td>\n",
       "      <td>HT0115</td>\n",
       "      <td>Kenscoff</td>\n",
       "      <td>7.140848e+04</td>\n",
       "      <td>35608</td>\n",
       "      <td>35800</td>\n",
       "    </tr>\n",
       "  </tbody>\n",
       "</table>\n",
       "</div>"
      ]
     },
     "metadata": {},
     "execution_count": 125
    }
   ],
   "metadata": {}
  },
  {
   "cell_type": "markdown",
   "source": [
    "### Spa cleaning"
   ],
   "metadata": {}
  },
  {
   "cell_type": "code",
   "execution_count": 126,
   "source": [
    "spa=spa.reset_index()\r\n",
    "spa.head()"
   ],
   "outputs": [
    {
     "output_type": "execute_result",
     "data": {
      "text/plain": [
       "   level_0  index  facil  depart departn  vilcom         vilcomn  factype  \\\n",
       "0        0      0      1       1   Ouest      11  Port-Au-Prince      7.0   \n",
       "1        1      1      2       1   Ouest      11  Port-Au-Prince      3.0   \n",
       "2        2      2      3       1   Ouest      11  Port-Au-Prince      6.0   \n",
       "3        3      3      4       1   Ouest      11  Port-Au-Prince      5.0   \n",
       "4        4      4      5       1   Ouest      11  Port-Au-Prince      6.0   \n",
       "\n",
       "                  facdesc_1                             facdesc  mga  \\\n",
       "0               DISPENSAIRE                         DISPENSAIRE    3   \n",
       "1                   HOPITAL  HOPITAL COMMUNAUTAIRE DE REFERENCE    1   \n",
       "2  CENTRE DE SANTE SANS LIT            CENTRE DE SANTE SANS LIT    3   \n",
       "3  CENTRE DE SANTE AVEC LIT            CENTRE DE SANTE AVEC LIT    3   \n",
       "4  CENTRE DE SANTE SANS LIT            CENTRE DE SANTE SANS LIT    2   \n",
       "\n",
       "   service_laboratory  num_beds  ambulance  full_time  \n",
       "0                 1.0       NaN        3.0        5.0  \n",
       "1                 1.0      25.0        3.0       18.0  \n",
       "2                 1.0     201.0        1.0      141.0  \n",
       "3                 1.0       7.0        3.0       13.0  \n",
       "4                 1.0       NaN        3.0       10.0  "
      ],
      "text/html": [
       "<div>\n",
       "<style scoped>\n",
       "    .dataframe tbody tr th:only-of-type {\n",
       "        vertical-align: middle;\n",
       "    }\n",
       "\n",
       "    .dataframe tbody tr th {\n",
       "        vertical-align: top;\n",
       "    }\n",
       "\n",
       "    .dataframe thead th {\n",
       "        text-align: right;\n",
       "    }\n",
       "</style>\n",
       "<table border=\"1\" class=\"dataframe\">\n",
       "  <thead>\n",
       "    <tr style=\"text-align: right;\">\n",
       "      <th></th>\n",
       "      <th>level_0</th>\n",
       "      <th>index</th>\n",
       "      <th>facil</th>\n",
       "      <th>depart</th>\n",
       "      <th>departn</th>\n",
       "      <th>vilcom</th>\n",
       "      <th>vilcomn</th>\n",
       "      <th>factype</th>\n",
       "      <th>facdesc_1</th>\n",
       "      <th>facdesc</th>\n",
       "      <th>mga</th>\n",
       "      <th>service_laboratory</th>\n",
       "      <th>num_beds</th>\n",
       "      <th>ambulance</th>\n",
       "      <th>full_time</th>\n",
       "    </tr>\n",
       "  </thead>\n",
       "  <tbody>\n",
       "    <tr>\n",
       "      <th>0</th>\n",
       "      <td>0</td>\n",
       "      <td>0</td>\n",
       "      <td>1</td>\n",
       "      <td>1</td>\n",
       "      <td>Ouest</td>\n",
       "      <td>11</td>\n",
       "      <td>Port-Au-Prince</td>\n",
       "      <td>7.0</td>\n",
       "      <td>DISPENSAIRE</td>\n",
       "      <td>DISPENSAIRE</td>\n",
       "      <td>3</td>\n",
       "      <td>1.0</td>\n",
       "      <td>NaN</td>\n",
       "      <td>3.0</td>\n",
       "      <td>5.0</td>\n",
       "    </tr>\n",
       "    <tr>\n",
       "      <th>1</th>\n",
       "      <td>1</td>\n",
       "      <td>1</td>\n",
       "      <td>2</td>\n",
       "      <td>1</td>\n",
       "      <td>Ouest</td>\n",
       "      <td>11</td>\n",
       "      <td>Port-Au-Prince</td>\n",
       "      <td>3.0</td>\n",
       "      <td>HOPITAL</td>\n",
       "      <td>HOPITAL COMMUNAUTAIRE DE REFERENCE</td>\n",
       "      <td>1</td>\n",
       "      <td>1.0</td>\n",
       "      <td>25.0</td>\n",
       "      <td>3.0</td>\n",
       "      <td>18.0</td>\n",
       "    </tr>\n",
       "    <tr>\n",
       "      <th>2</th>\n",
       "      <td>2</td>\n",
       "      <td>2</td>\n",
       "      <td>3</td>\n",
       "      <td>1</td>\n",
       "      <td>Ouest</td>\n",
       "      <td>11</td>\n",
       "      <td>Port-Au-Prince</td>\n",
       "      <td>6.0</td>\n",
       "      <td>CENTRE DE SANTE SANS LIT</td>\n",
       "      <td>CENTRE DE SANTE SANS LIT</td>\n",
       "      <td>3</td>\n",
       "      <td>1.0</td>\n",
       "      <td>201.0</td>\n",
       "      <td>1.0</td>\n",
       "      <td>141.0</td>\n",
       "    </tr>\n",
       "    <tr>\n",
       "      <th>3</th>\n",
       "      <td>3</td>\n",
       "      <td>3</td>\n",
       "      <td>4</td>\n",
       "      <td>1</td>\n",
       "      <td>Ouest</td>\n",
       "      <td>11</td>\n",
       "      <td>Port-Au-Prince</td>\n",
       "      <td>5.0</td>\n",
       "      <td>CENTRE DE SANTE AVEC LIT</td>\n",
       "      <td>CENTRE DE SANTE AVEC LIT</td>\n",
       "      <td>3</td>\n",
       "      <td>1.0</td>\n",
       "      <td>7.0</td>\n",
       "      <td>3.0</td>\n",
       "      <td>13.0</td>\n",
       "    </tr>\n",
       "    <tr>\n",
       "      <th>4</th>\n",
       "      <td>4</td>\n",
       "      <td>4</td>\n",
       "      <td>5</td>\n",
       "      <td>1</td>\n",
       "      <td>Ouest</td>\n",
       "      <td>11</td>\n",
       "      <td>Port-Au-Prince</td>\n",
       "      <td>6.0</td>\n",
       "      <td>CENTRE DE SANTE SANS LIT</td>\n",
       "      <td>CENTRE DE SANTE SANS LIT</td>\n",
       "      <td>2</td>\n",
       "      <td>1.0</td>\n",
       "      <td>NaN</td>\n",
       "      <td>3.0</td>\n",
       "      <td>10.0</td>\n",
       "    </tr>\n",
       "  </tbody>\n",
       "</table>\n",
       "</div>"
      ]
     },
     "metadata": {},
     "execution_count": 126
    }
   ],
   "metadata": {}
  },
  {
   "cell_type": "code",
   "execution_count": null,
   "source": [
    "pd.set_option('display.max_rows',None)\r\n",
    "x = spa['vilcomn'].drop_duplicates()"
   ],
   "outputs": [],
   "metadata": {}
  },
  {
   "cell_type": "code",
   "execution_count": null,
   "source": [
    "b = commune.loc[:,'adm2_en']\r\n",
    "b = b.reset_index() \r\n",
    "b"
   ],
   "outputs": [],
   "metadata": {}
  },
  {
   "cell_type": "code",
   "execution_count": 129,
   "source": [
    "spa['vilcomn']= spa['vilcomn'].replace({\"L!og!ne\":\"Leogane\",\"Limb!\":\"Limbe\",\"St-Ls-du-Nord'Ouest\"\t:\"Saint-Louis du Nord\" ,\"Cayes\" :\"Les Cayes\" }, inplace =False)"
   ],
   "outputs": [],
   "metadata": {}
  },
  {
   "cell_type": "code",
   "execution_count": null,
   "source": [
    "from rapidfuzz import process\r\n",
    "t = spa['vilcomn'].map(lambda x: process.extractOne(x, b.iloc[:,1]))\r\n",
    "t"
   ],
   "outputs": [],
   "metadata": {}
  },
  {
   "cell_type": "code",
   "execution_count": 131,
   "source": [
    "def listed( t) : \r\n",
    "    list1 = []\r\n",
    "    a=0\r\n",
    "    for i in range(0,t.shape[0]) :\r\n",
    "        a = list(t[i])\r\n",
    "        list1.append(a[0]) \r\n",
    "    spa['new'] = list1    \r\n",
    "    return spa['new']             "
   ],
   "outputs": [],
   "metadata": {}
  },
  {
   "cell_type": "code",
   "execution_count": null,
   "source": [
    "listed(t)"
   ],
   "outputs": [],
   "metadata": {}
  },
  {
   "cell_type": "code",
   "execution_count": 133,
   "source": [
    "#merge spawith commune\r\n",
    "f_merge=pd.merge(left=spa, right=commune, how='left', left_on='new', right_on='adm2_en')"
   ],
   "outputs": [],
   "metadata": {}
  },
  {
   "cell_type": "code",
   "execution_count": 134,
   "source": [
    "#creating new table as newtab \r\n",
    "newtab= spa.loc[:,['factype','facdesc_1','facdesc']]\r\n",
    "newtab=newtab.drop_duplicates().sort_values(by='factype')\r\n",
    "newtab.head()"
   ],
   "outputs": [
    {
     "output_type": "execute_result",
     "data": {
      "text/plain": [
       "     factype                 facdesc_1                             facdesc\n",
       "16       1.0                   HOPITAL               HOPITAL UNIVERSITAIRE\n",
       "289      2.0                   HOPITAL               HOPITAL DEPARTEMENTAL\n",
       "1        3.0                   HOPITAL  HOPITAL COMMUNAUTAIRE DE REFERENCE\n",
       "12       4.0                   HOPITAL                     AUTRES HOPITAUX\n",
       "3        5.0  CENTRE DE SANTE AVEC LIT            CENTRE DE SANTE AVEC LIT"
      ],
      "text/html": [
       "<div>\n",
       "<style scoped>\n",
       "    .dataframe tbody tr th:only-of-type {\n",
       "        vertical-align: middle;\n",
       "    }\n",
       "\n",
       "    .dataframe tbody tr th {\n",
       "        vertical-align: top;\n",
       "    }\n",
       "\n",
       "    .dataframe thead th {\n",
       "        text-align: right;\n",
       "    }\n",
       "</style>\n",
       "<table border=\"1\" class=\"dataframe\">\n",
       "  <thead>\n",
       "    <tr style=\"text-align: right;\">\n",
       "      <th></th>\n",
       "      <th>factype</th>\n",
       "      <th>facdesc_1</th>\n",
       "      <th>facdesc</th>\n",
       "    </tr>\n",
       "  </thead>\n",
       "  <tbody>\n",
       "    <tr>\n",
       "      <th>16</th>\n",
       "      <td>1.0</td>\n",
       "      <td>HOPITAL</td>\n",
       "      <td>HOPITAL UNIVERSITAIRE</td>\n",
       "    </tr>\n",
       "    <tr>\n",
       "      <th>289</th>\n",
       "      <td>2.0</td>\n",
       "      <td>HOPITAL</td>\n",
       "      <td>HOPITAL DEPARTEMENTAL</td>\n",
       "    </tr>\n",
       "    <tr>\n",
       "      <th>1</th>\n",
       "      <td>3.0</td>\n",
       "      <td>HOPITAL</td>\n",
       "      <td>HOPITAL COMMUNAUTAIRE DE REFERENCE</td>\n",
       "    </tr>\n",
       "    <tr>\n",
       "      <th>12</th>\n",
       "      <td>4.0</td>\n",
       "      <td>HOPITAL</td>\n",
       "      <td>AUTRES HOPITAUX</td>\n",
       "    </tr>\n",
       "    <tr>\n",
       "      <th>3</th>\n",
       "      <td>5.0</td>\n",
       "      <td>CENTRE DE SANTE AVEC LIT</td>\n",
       "      <td>CENTRE DE SANTE AVEC LIT</td>\n",
       "    </tr>\n",
       "  </tbody>\n",
       "</table>\n",
       "</div>"
      ]
     },
     "metadata": {},
     "execution_count": 134
    }
   ],
   "metadata": {}
  },
  {
   "cell_type": "code",
   "execution_count": 135,
   "source": [
    "f_merge.columns"
   ],
   "outputs": [
    {
     "output_type": "execute_result",
     "data": {
      "text/plain": [
       "Index(['level_0', 'index', 'facil', 'depart', 'departn', 'vilcom', 'vilcomn',\n",
       "       'factype', 'facdesc_1', 'facdesc', 'mga', 'service_laboratory',\n",
       "       'num_beds', 'ambulance', 'full_time', 'new', 'adm1code', 'adm2code',\n",
       "       'adm2_en', 'IHSI_UNFPA_2019', 'IHSI_UNFPA_2019_female',\n",
       "       'IHSI_UNFPA_2019_male'],\n",
       "      dtype='object')"
      ]
     },
     "metadata": {},
     "execution_count": 135
    }
   ],
   "metadata": {}
  },
  {
   "cell_type": "code",
   "execution_count": 136,
   "source": [
    "# Selecting the needed column from the first merge data\r\n",
    "f_mergeclean = f_merge.loc[:,['factype','mga','ambulance','service_laboratory', 'num_beds',\r\n",
    "       'ambulance', 'full_time', 'adm1code', 'adm2code']]"
   ],
   "outputs": [],
   "metadata": {}
  },
  {
   "cell_type": "code",
   "execution_count": 137,
   "source": [
    "f_mergeclean.info()"
   ],
   "outputs": [
    {
     "output_type": "stream",
     "name": "stdout",
     "text": [
      "<class 'pandas.core.frame.DataFrame'>\n",
      "Int64Index: 1033 entries, 0 to 1032\n",
      "Data columns (total 9 columns):\n",
      " #   Column              Non-Null Count  Dtype  \n",
      "---  ------              --------------  -----  \n",
      " 0   factype             1033 non-null   float64\n",
      " 1   mga                 1033 non-null   int64  \n",
      " 2   ambulance           1007 non-null   float64\n",
      " 3   service_laboratory  1007 non-null   float64\n",
      " 4   num_beds            474 non-null    float64\n",
      " 5   ambulance           1007 non-null   float64\n",
      " 6   full_time           1007 non-null   float64\n",
      " 7   adm1code            1033 non-null   object \n",
      " 8   adm2code            1033 non-null   object \n",
      "dtypes: float64(6), int64(1), object(2)\n",
      "memory usage: 80.7+ KB\n"
     ]
    }
   ],
   "metadata": {}
  },
  {
   "cell_type": "code",
   "execution_count": 139,
   "source": [
    "#Loading data to mysql database\r\n",
    "engine = create_engine('mysql://root:@localhost/covid')\r\n",
    "with engine.connect() as conn, conn.begin():\r\n",
    "    f_mergeclean.to_sql(\"spa\",conn, if_exists=\"replace\",index=True)\r\n",
    "    newtab.to_sql(\"factype\",conn, if_exists=\"replace\",index=True)\r\n",
    "    covid_cases1.to_sql(\"covid_case\",conn, if_exists=\"replace\",index=True)\r\n",
    "    commune.to_sql(\"commune\",conn, if_exists=\"replace\",index=True)\r\n",
    "    departement.to_sql(\"departement\",conn, if_exists=\"replace\",index=True)"
   ],
   "outputs": [],
   "metadata": {}
  },
  {
   "cell_type": "code",
   "execution_count": null,
   "source": [],
   "outputs": [],
   "metadata": {}
  }
 ],
 "metadata": {
  "orig_nbformat": 4,
  "language_info": {
   "name": "python",
   "version": "3.9.5",
   "mimetype": "text/x-python",
   "codemirror_mode": {
    "name": "ipython",
    "version": 3
   },
   "pygments_lexer": "ipython3",
   "nbconvert_exporter": "python",
   "file_extension": ".py"
  },
  "kernelspec": {
   "name": "python3",
   "display_name": "Python 3.9.5 64-bit"
  },
  "interpreter": {
   "hash": "ac59ebe37160ed0dfa835113d9b8498d9f09ceb179beaac4002f036b9467c963"
  }
 },
 "nbformat": 4,
 "nbformat_minor": 2
}